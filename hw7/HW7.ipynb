{
 "cells": [
  {
   "cell_type": "code",
   "execution_count": 1,
   "metadata": {},
   "outputs": [],
   "source": [
    "from SALib.analyze import sobol\n",
    "from SALib.sample import saltelli\n",
    "from SALib.test_functions import Ishigami\n",
    "import numpy as np\n",
    "from math import *\n",
    "from threading import Thread\n",
    "from time import time\n",
    "from numba import jit\n",
    "from numba import njit"
   ]
  },
  {
   "cell_type": "code",
   "execution_count": 2,
   "metadata": {},
   "outputs": [],
   "source": [
    "def evaluate_model(x):\n",
    "    return x[0]*x[0] + 10*sin(x[1]) + 2*cos(x[2])\n"
   ]
  },
  {
   "cell_type": "code",
   "execution_count": 3,
   "metadata": {},
   "outputs": [],
   "source": [
    "@jit(nopython=True)\n",
    "def evaluate_model_jit(x):\n",
    "    return x[0]*x[0] + 10*sin(x[1]) + 2*cos(x[2])"
   ]
  },
  {
   "cell_type": "code",
   "execution_count": 4,
   "metadata": {},
   "outputs": [],
   "source": [
    "problem = {\n",
    "    'num_vars' : 3,\n",
    "    'names' : ['x1', 'x2', 'x3'],\n",
    "    'bounds' : [[-10,10],\n",
    "                [-10,10],\n",
    "                [-10,10]\n",
    "               ]\n",
    "}"
   ]
  },
  {
   "cell_type": "code",
   "execution_count": null,
   "metadata": {},
   "outputs": [],
   "source": []
  },
  {
   "cell_type": "code",
   "execution_count": 6,
   "metadata": {},
   "outputs": [
    {
     "name": "stdout",
     "output_type": "stream",
     "text": [
      "n = 10000\n",
      "samples generation took 0.4762837886810303 seconds\n",
      "model evaluation took 0.17675018310546875 seconds\n",
      "SA took 0.5971724987030029 seconds\n",
      "n = 100000\n",
      "samples generation took 4.266716003417969 seconds\n",
      "model evaluation took 1.7974331378936768 seconds\n",
      "SA took 9.750931978225708 seconds\n",
      "n = 500000\n",
      "samples generation took 22.345986366271973 seconds\n",
      "model evaluation took 9.009239673614502 seconds\n",
      "SA took 64.34293127059937 seconds\n"
     ]
    }
   ],
   "source": [
    "# Чистый вариант с которым будем сравнивать\n",
    "for n in [10000,100000,500000]:\n",
    "    print(f\"n ={n}\")\n",
    "    start = time()\n",
    "    param_values = saltelli.sample(problem, n)\n",
    "    Y = np.zeros(param_values.shape[0])\n",
    "    print(\"samples generation took %s seconds\" %(time() - start))\n",
    "\n",
    "    \n",
    "    start = time()\n",
    "    for i, X in enumerate(param_values):\n",
    "        Y[i] = evaluate_model(X)\n",
    "    print(\"model evaluation took %s seconds\" %(time() - start))\n",
    "\n",
    "    start = time()\n",
    "    S = sobol.analyze(problem, Y)\n",
    "    print(\"SA took %s seconds\" %(time() - start))"
   ]
  },
  {
   "cell_type": "code",
   "execution_count": 7,
   "metadata": {},
   "outputs": [
    {
     "data": {
      "text/plain": [
       "array([0.94695349, 0.05083665, 0.00221696])"
      ]
     },
     "execution_count": 7,
     "metadata": {},
     "output_type": "execute_result"
    }
   ],
   "source": [
    "S['S1']"
   ]
  },
  {
   "cell_type": "code",
   "execution_count": 8,
   "metadata": {},
   "outputs": [
    {
     "data": {
      "text/plain": [
       "array([[            nan,  5.39452631e-06,  4.69504307e-06],\n",
       "       [            nan,             nan, -5.06544027e-06],\n",
       "       [            nan,             nan,             nan]])"
      ]
     },
     "execution_count": 8,
     "metadata": {},
     "output_type": "execute_result"
    }
   ],
   "source": [
    "S['S2']"
   ]
  },
  {
   "cell_type": "code",
   "execution_count": null,
   "metadata": {},
   "outputs": [],
   "source": []
  },
  {
   "cell_type": "code",
   "execution_count": 9,
   "metadata": {},
   "outputs": [
    {
     "name": "stdout",
     "output_type": "stream",
     "text": [
      "n = 10000\n",
      "samples generation took 0.518578290939331 seconds\n",
      "model evaluation took 1.1278417110443115 seconds\n",
      "SA took 0.5360112190246582 seconds\n",
      "n = 100000\n",
      "samples generation took 4.1586644649505615 seconds\n",
      "model evaluation took 0.7711987495422363 seconds\n",
      "SA took 8.106122016906738 seconds\n",
      "n = 500000\n",
      "samples generation took 21.140419006347656 seconds\n",
      "model evaluation took 3.7271618843078613 seconds\n",
      "SA took 52.76559495925903 seconds\n"
     ]
    }
   ],
   "source": [
    "#попробуем подключить Numba\n",
    "\n",
    "for n in [10000,100000,500000]:\n",
    "    print(f\"n ={n}\")\n",
    "    start = time()\n",
    "    param_values = saltelli.sample(problem, n)\n",
    "    Y = np.zeros(param_values.shape[0])\n",
    "    print(\"samples generation took %s seconds\" %(time() - start))\n",
    "\n",
    "\n",
    "    start = time()\n",
    "    for i, X in enumerate(param_values):\n",
    "        Y[i] = evaluate_model_jit(X)\n",
    "    print(\"model evaluation took %s seconds\" %(time() - start))\n",
    "\n",
    "    start = time()\n",
    "    S = sobol.analyze(problem, Y)\n",
    "    print(\"SA took %s seconds\" %(time() - start))"
   ]
  },
  {
   "cell_type": "markdown",
   "metadata": {},
   "source": [
    "(!): буст скорости для evaluate_model х3-x5"
   ]
  },
  {
   "cell_type": "code",
   "execution_count": 5,
   "metadata": {},
   "outputs": [],
   "source": [
    "from threading import Thread"
   ]
  },
  {
   "cell_type": "code",
   "execution_count": 21,
   "metadata": {},
   "outputs": [
    {
     "name": "stdout",
     "output_type": "stream",
     "text": [
      "n = 500000\n",
      "samples generation took 21.59383535385132 seconds\n",
      "model evaluation took 8.506713390350342 seconds\n",
      "SA took 63.58519005775452 seconds\n"
     ]
    }
   ],
   "source": [
    "#попробуем подключить мультипоточность на 4 потока\n",
    "num_threads=4\n",
    "n=500000\n",
    "\n",
    "def evaluate_model_parallel(thread_id):\n",
    "    for i, X in enumerate(param_values_lst[thread_id]):\n",
    "        Y_lst[thread_id][i] = evaluate_model(X)\n",
    "    \n",
    "print(\"n =\",str(n))\n",
    "start = time()\n",
    "param_values = saltelli.sample(problem, n)\n",
    "size_for_thread = param_values.shape[0]//num_threads\n",
    "param_values_lst = []\n",
    "Y_lst = []\n",
    "for i in range(num_threads):\n",
    "    first = i*size_for_thread\n",
    "    last = (i+1)*size_for_thread\n",
    "    param_values_lst.append(param_values[first:last,])\n",
    "    Y_lst.append(np.zeros(param_values_lst[i].shape[0]))\n",
    "print(\"samples generation took %s seconds\" %(time() - start))\n",
    "\n",
    "\n",
    "start = time()\n",
    "threads_list=[]\n",
    "for thread_id in range(num_threads):\n",
    "    thread=Thread(target=evaluate_model_parallel, args=(thread_id,))\n",
    "    threads_list.append(thread)\n",
    "    thread.start()      \n",
    "for thread in threads_list:\n",
    "    thread.join()                   \n",
    "Y = np.concatenate((Y_lst),axis=0)                  \n",
    "print(\"model evaluation took %s seconds\" %(time() - start))\n",
    "\n",
    "\n",
    "start = time()\n",
    "S = sobol.analyze(problem, Y)\n",
    "print(\"SA took %s seconds\" %(time() - start))"
   ]
  },
  {
   "cell_type": "code",
   "execution_count": null,
   "metadata": {},
   "outputs": [],
   "source": []
  },
  {
   "cell_type": "code",
   "execution_count": null,
   "metadata": {},
   "outputs": [],
   "source": []
  },
  {
   "cell_type": "code",
   "execution_count": 22,
   "metadata": {},
   "outputs": [
    {
     "data": {
      "text/plain": [
       "array([0.94695349, 0.05083665, 0.00221696])"
      ]
     },
     "execution_count": 22,
     "metadata": {},
     "output_type": "execute_result"
    }
   ],
   "source": [
    "#проверим, что результат правильный и совпадает начальным вариантом\n",
    "S['S1']"
   ]
  },
  {
   "cell_type": "code",
   "execution_count": null,
   "metadata": {},
   "outputs": [],
   "source": []
  }
 ],
 "metadata": {
  "kernelspec": {
   "display_name": "Python 3",
   "language": "python",
   "name": "python3"
  },
  "language_info": {
   "codemirror_mode": {
    "name": "ipython",
    "version": 3
   },
   "file_extension": ".py",
   "mimetype": "text/x-python",
   "name": "python",
   "nbconvert_exporter": "python",
   "pygments_lexer": "ipython3",
   "version": "3.8.3"
  }
 },
 "nbformat": 4,
 "nbformat_minor": 2
}
